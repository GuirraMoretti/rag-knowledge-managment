{
  "cells": [
    {
      "cell_type": "code",
      "execution_count": null,
      "metadata": {
        "colab": {
          "base_uri": "https://localhost:8080/"
        },
        "id": "L-t1ja41kPhn",
        "outputId": "ccdcf4cc-0a62-4ee4-97af-f5b372a38a5d"
      },
      "outputs": [],
      "source": [
        "!pip install crewai crewai-tools openai"
      ]
    },
    {
      "cell_type": "code",
      "execution_count": null,
      "metadata": {
        "id": "iSFXnB90to-L"
      },
      "outputs": [],
      "source": [
        "import os\n",
        "os.environ[\"OPENAI_API_KEY\"] = \"Sua-chave-aqui\"\n"
      ]
    },
    {
      "cell_type": "code",
      "execution_count": null,
      "metadata": {
        "id": "UzgK5o5HlmKo"
      },
      "outputs": [],
      "source": [
        "from crewai import Agent, Task, Crew, Process"
      ]
    },
    {
      "cell_type": "code",
      "execution_count": null,
      "metadata": {
        "id": "-pc7ZM1Fm6TP"
      },
      "outputs": [],
      "source": [
        "# Definição de Agentes\n",
        "pesquisador = Agent(\n",
        "    role=\"Pesquisador de Tendências\",\n",
        "    goal=\"Buscar tendências emergentes no mercado financeiro\",\n",
        "    backstory=\"Especialista em análise de dados de mercado há 10 anos.\"\n",
        "\n",
        ")\n",
        "\n",
        "escritor = Agent(\n",
        "    role=\"Redator Executivo\",\n",
        "    goal=\"Elaborar um relatório baseado em pesquisas\",\n",
        "    backstory=\"Experiente em comunicação corporativa.\"\n",
        "\n",
        ")"
      ]
    },
    {
      "cell_type": "code",
      "execution_count": null,
      "metadata": {
        "id": "pWEGAebInBQx"
      },
      "outputs": [],
      "source": [
        "# Definição de Tarefas\n",
        "pesquisa_tendencias = Task(\n",
        "    description=\"Pesquisar tendências no mercado financeiro para 2025\",\n",
        "    expected_output=\"Uma lista com 5 tendências emergentes explicadas em até 2 parágrafos cada.\",\n",
        "    agent=pesquisador\n",
        ")\n",
        "\n",
        "escrever_relatorio = Task(\n",
        "    description=\"Criar um relatório executivo com base nas pesquisas\",\n",
        "    expected_output=\"Um relatório executivo bem estruturado com introdução, tópicos principais e conclusão.\",\n",
        "    agent=escritor\n",
        ")"
      ]
    },
    {
      "cell_type": "code",
      "execution_count": null,
      "metadata": {
        "id": "YeM3FJGFnEyH"
      },
      "outputs": [],
      "source": [
        "# Definição da Crew\n",
        "equipe = Crew(\n",
        "    agents=[pesquisador, escritor],\n",
        "    tasks=[pesquisa_tendencias, escrever_relatorio],\n",
        "    process=Process.sequential,\n",
        "    llm={\"model\": \"gpt-4o\"}\n",
        ")"
      ]
    },
    {
      "cell_type": "code",
      "execution_count": null,
      "metadata": {
        "colab": {
          "base_uri": "https://localhost:8080/"
        },
        "id": "9KZoGtP4hyyj",
        "outputId": "0d37881a-e156-486b-e71c-841de7161180"
      },
      "outputs": [],
      "source": [
        "# Execução\n",
        "resultado = equipe.kickoff()\n",
        "print(resultado)"
      ]
    }
  ],
  "metadata": {
    "colab": {
      "provenance": []
    },
    "kernelspec": {
      "display_name": "Python 3",
      "name": "python3"
    },
    "language_info": {
      "name": "python"
    }
  },
  "nbformat": 4,
  "nbformat_minor": 0
}
