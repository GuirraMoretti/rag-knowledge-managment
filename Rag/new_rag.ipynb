{
 "cells": [
  {
   "cell_type": "code",
   "execution_count": null,
   "id": "b9eaa37d",
   "metadata": {},
   "outputs": [],
   "source": [
    "import os, logging, itertools\n",
    "from pathlib import Path\n",
    "from dotenv import load_dotenv\n",
    "from tqdm import tqdm\n",
    "\n",
    "from langchain_community.document_loaders import PyPDFDirectoryLoader\n",
    "from langchain.text_splitter import RecursiveCharacterTextSplitter\n",
    "from langchain_mistralai import MistralAIEmbeddings\n",
    "# Fallback: from langchain_experimental.open_clip import OpenCLIPEmbeddings\n",
    "from langchain_community.vectorstores import Chroma\n",
    "from langchain_groq import ChatGroq\n",
    "from langchain_core.prompts import ChatPromptTemplate\n",
    "from langchain_core.runnables import RunnablePassthrough"
   ]
  },
  {
   "cell_type": "code",
   "execution_count": null,
   "id": "ea58e30a",
   "metadata": {},
   "outputs": [],
   "source": [
    "PDF_DIR           = \"/home/gui/rag-knowledge-managment/docs/pdfs\"        # folder with many PDFs\n",
    "PERSIST_DIR       = \"./chroma_db\"   # where Chroma stores the collection\n",
    "COLLECTION_NAME   = \"my-rag\"\n",
    "CHUNK_SIZE        = 1000\n",
    "CHUNK_OVERLAP     = 150\n",
    "TOP_K             = 3              # how many chunks to retrieve\n",
    "LLM_MODEL_NAME    = \"llama-3.3-70b-versatile\""
   ]
  },
  {
   "cell_type": "markdown",
   "id": "67751a17",
   "metadata": {},
   "source": [
    "### Carrega os pdfs do diretorio"
   ]
  },
  {
   "cell_type": "code",
   "execution_count": null,
   "id": "6ed6c6f3",
   "metadata": {},
   "outputs": [],
   "source": [
    "def load_documents(pdf_dir):\n",
    "    \"\"\"Carrega os PDFs do diretório.\"\"\"\n",
    "    loader = PyPDFDirectoryLoader(pdf_dir, recursive=True)\n",
    "    docs = loader.load()\n",
    "    logging.info(\"Loaded %d pages from %s\", len(docs), pdf_dir)\n",
    "    return docs"
   ]
  },
  {
   "cell_type": "markdown",
   "id": "71c773bf",
   "metadata": {},
   "source": [
    "### Divide os chunks dos arquivos"
   ]
  },
  {
   "cell_type": "code",
   "execution_count": null,
   "id": "e087f8a5",
   "metadata": {},
   "outputs": [],
   "source": [
    "def split_documents(docs, chunk_size, chunk_overlap):\n",
    "    \"\"\"Divide os documentos em chunks.\"\"\"\n",
    "    splitter = RecursiveCharacterTextSplitter(\n",
    "        chunk_size=chunk_size, chunk_overlap=chunk_overlap\n",
    "    )\n",
    "    chunks = splitter.split_documents(docs)\n",
    "    logging.info(\"Split into %d chunks\", len(chunks))\n",
    "    return chunks"
   ]
  },
  {
   "cell_type": "markdown",
   "id": "378d73a4",
   "metadata": {},
   "source": [
    "### Cria os embedding e armazena no VectorDB"
   ]
  },
  {
   "cell_type": "code",
   "execution_count": null,
   "id": "2a925e7d",
   "metadata": {},
   "outputs": [],
   "source": [
    "\n",
    "def store_embeddings(chunks, collection_name, persist_dir):\n",
    "    \"\"\"Cria a base vetorial, armazena e persiste.\"\"\"\n",
    "    embeddings = MistralAIEmbeddings()  # relies on $MISTRAL_API_KEY\n",
    "    vectordb = Chroma.from_documents(\n",
    "        chunks,\n",
    "        embedding=embeddings,\n",
    "        collection_name=collection_name,\n",
    "        persist_directory=persist_dir,\n",
    "    )\n",
    "    logging.info(\"Vector DB persisted at %s\", persist_dir)\n",
    "    return vectordb"
   ]
  },
  {
   "cell_type": "code",
   "execution_count": null,
   "id": "ba44dc4a",
   "metadata": {},
   "outputs": [],
   "source": [
    "def load_vector_store():\n",
    "    \"\"\"Load an existing Chroma collection without re-embedding.\"\"\"\n",
    "    embeddings = MistralAIEmbeddings()\n",
    "    return Chroma(\n",
    "        embedding_function=embeddings,\n",
    "        collection_name=COLLECTION_NAME,\n",
    "        persist_directory=PERSIST_DIR,\n",
    "    )"
   ]
  },
  {
   "cell_type": "code",
   "execution_count": null,
   "id": "3cc46ed8",
   "metadata": {},
   "outputs": [],
   "source": [
    "def get_retriever(persist_dir, collection_name, search_kwargs=None):\n",
    "    \"\"\"\n",
    "    Retorna um retriever a partir do banco vetorial persistido.\n",
    "    :param persist_dir: Caminho onde o banco está salvo.\n",
    "    :param collection_name: Nome da coleção do banco.\n",
    "    :param search_kwargs: Parâmetros extras de busca, ex: {\"k\": 3}\n",
    "    \"\"\"\n",
    "    embeddings = MistralAIEmbeddings()\n",
    "    vectordb = Chroma(\n",
    "        persist_directory=persist_dir,\n",
    "        embedding_function=embeddings,\n",
    "        collection_name=collection_name,\n",
    "    )\n",
    "    retriever = vectordb.as_retriever(search_kwargs=search_kwargs or {\"k\": 3})\n",
    "    return retriever"
   ]
  },
  {
   "cell_type": "markdown",
   "id": "52265d14",
   "metadata": {},
   "source": [
    "## Rodar apenas 1 vez"
   ]
  },
  {
   "cell_type": "code",
   "execution_count": 37,
   "id": "f35189fa",
   "metadata": {},
   "outputs": [
    {
     "name": "stderr",
     "output_type": "stream",
     "text": [
      "2025-05-26 11:27:05,585 [INFO] HTTP Request: POST https://api.mistral.ai/v1/embeddings \"HTTP/1.1 200 OK\"\n",
      "2025-05-26 11:27:06,198 [INFO] HTTP Request: POST https://api.mistral.ai/v1/embeddings \"HTTP/1.1 200 OK\"\n",
      "2025-05-26 11:27:06,823 [INFO] HTTP Request: POST https://api.mistral.ai/v1/embeddings \"HTTP/1.1 429 Too Many Requests\"\n",
      "2025-05-26 11:27:37,528 [INFO] HTTP Request: POST https://api.mistral.ai/v1/embeddings \"HTTP/1.1 200 OK\"\n",
      "2025-05-26 11:27:40,220 [INFO] HTTP Request: POST https://api.mistral.ai/v1/embeddings \"HTTP/1.1 429 Too Many Requests\"\n",
      "2025-05-26 11:28:10,956 [INFO] HTTP Request: POST https://api.mistral.ai/v1/embeddings \"HTTP/1.1 200 OK\"\n",
      "2025-05-26 11:28:11,820 [INFO] HTTP Request: POST https://api.mistral.ai/v1/embeddings \"HTTP/1.1 200 OK\"\n",
      "2025-05-26 11:28:14,411 [INFO] HTTP Request: POST https://api.mistral.ai/v1/embeddings \"HTTP/1.1 200 OK\"\n",
      "2025-05-26 11:28:14,992 [INFO] HTTP Request: POST https://api.mistral.ai/v1/embeddings \"HTTP/1.1 200 OK\"\n",
      "2025-05-26 11:28:15,472 [INFO] HTTP Request: POST https://api.mistral.ai/v1/embeddings \"HTTP/1.1 200 OK\"\n",
      "2025-05-26 11:28:15,846 [INFO] Vector DB persisted at ./chroma_db\n"
     ]
    },
    {
     "name": "stdout",
     "output_type": "stream",
     "text": [
      "Banco vetorial salvo em: ./chroma_db\n"
     ]
    }
   ],
   "source": [
    "docs = load_documents(PDF_DIR)\n",
    "print(f\"Documentos carregados: {len(docs)}\")\n",
    "\n",
    "# 2. Dividir em chunks\n",
    "chunks = split_documents(docs, CHUNK_SIZE, CHUNK_OVERLAP)\n",
    "print(f\"Chunks gerados: {len(chunks)}\")\n",
    "\n",
    "# 3. Armazenar os embeddings no banco vetorial (ChromaDB)\n",
    "vectordb = store_embeddings(chunks, COLLECTION_NAME, PERSIST_DIR)\n",
    "print(f\"Banco vetorial salvo em: {PERSIST_DIR}\")"
   ]
  },
  {
   "cell_type": "code",
   "execution_count": 38,
   "id": "13663f55",
   "metadata": {},
   "outputs": [
    {
     "data": {
      "image/png": "[encoded data removed]",
      "text/plain": [
       "<IPython.core.display.Image object>"
      ]
     },
     "metadata": {},
     "output_type": "display_data"
    },
    {
     "name": "stderr",
     "output_type": "stream",
     "text": [
      "2025-05-26 11:28:17,204 [INFO] HTTP Request: POST https://api.mistral.ai/v1/embeddings \"HTTP/1.1 200 OK\"\n",
      "2025-05-26 11:28:18,843 [INFO] HTTP Request: POST https://api.groq.com/openai/v1/chat/completions \"HTTP/1.1 200 OK\"\n"
     ]
    },
    {
     "name": "stdout",
     "output_type": "stream",
     "text": [
      "De acordo com o texto, as reuniões ordinárias são designadas pelo Reitor, que expedirá uma circular nos termos do artigo correspondente. No entanto, se o Reitor se recusar a convocar a reunião, os conselheiros que a promoverem também podem subscrever a convocação.\n",
      "\n",
      "Mais especificamente, o § 1º do artigo não especifica quem convoca as reuniões ordinárias, mas o § 2º do artigo 16 diz que \"Na hipótese de recusa do Reitor, a convocação poderá ser subscrita pelos conselheiros que a promoverem\", o que implica que o Reitor é o responsável por convocar as reuniões.\n",
      "\n",
      "Portanto, a resposta é: O Reitor.\n"
     ]
    }
   ],
   "source": [
    "from typing import TypedDict, List\n",
    "from langchain.schema import Document\n",
    "from langgraph.graph import START, StateGraph\n",
    "from langchain.prompts import PromptTemplate\n",
    "from langchain_core.messages import HumanMessage\n",
    "\n",
    "# 1. Definição do estado\n",
    "class State(TypedDict):\n",
    "    question: str\n",
    "    context: List[Document]\n",
    "    answer: str\n",
    "\n",
    "# 2. Definição do retriever\n",
    "retriever = get_retriever(PERSIST_DIR, COLLECTION_NAME, search_kwargs={\"k\": 3})\n",
    "\n",
    "# 3. Prompt e LLM\n",
    "prompt = PromptTemplate(input_variables=[\"question\", \"context\"], template=\n",
    "\"\"\"Contexto: {context}\n",
    "Pergunta: {question}\n",
    "Resposta:\"\"\")\n",
    "# Substitua pelo seu LLM favorito\n",
    "from langchain_groq import ChatGroq\n",
    "llm = ChatGroq(model=LLM_MODEL_NAME)\n",
    "\n",
    "# 4. Passos do fluxo\n",
    "def retrieve(state: State):\n",
    "    retrieved_docs = retriever.get_relevant_documents(state[\"question\"])\n",
    "    return {\"context\": retrieved_docs}\n",
    "\n",
    "def generate(state: State):\n",
    "    docs_content = \"\\n\\n\".join(doc.page_content for doc in state[\"context\"])\n",
    "    prompt_value = prompt.format(question=state[\"question\"], context=docs_content)\n",
    "    response = llm.invoke([HumanMessage(content=prompt_value)])\n",
    "    return {\"answer\": response.content}\n",
    "\n",
    "# 5. Construção do grafo\n",
    "graph_builder = StateGraph(State)\n",
    "graph_builder.add_node(\"retrieve\", retrieve)\n",
    "graph_builder.add_node(\"generate\", generate)\n",
    "graph_builder.add_edge(START, \"retrieve\")\n",
    "graph_builder.add_edge(\"retrieve\", \"generate\")\n",
    "graph = graph_builder.compile()\n",
    "\n",
    "# 6. Visualizar o fluxo (se estiver num notebook)\n",
    "from IPython.display import Image, display\n",
    "display(Image(graph.get_graph(xray=True).draw_mermaid_png()))\n",
    "\n",
    "# 7. Executando um exemplo\n",
    "initial_state = {\"question\": \"Quem designa as reuniões ordinarias?\", \"context\": [], \"answer\": \"\"}\n",
    "result = graph.invoke(initial_state)\n",
    "print(result[\"answer\"])\n"
   ]
  }
 ],
 "metadata": {
  "kernelspec": {
   "display_name": "rag-knowledge-managment-oo58KjW1",
   "language": "python",
   "name": "python3"
  },
  "language_info": {
   "codemirror_mode": {
    "name": "ipython",
    "version": 3
   },
   "file_extension": ".py",
   "mimetype": "text/x-python",
   "name": "python",
   "nbconvert_exporter": "python",
   "pygments_lexer": "ipython3",
   "version": "3.11.10"
  }
 },
 "nbformat": 4,
 "nbformat_minor": 5
}
