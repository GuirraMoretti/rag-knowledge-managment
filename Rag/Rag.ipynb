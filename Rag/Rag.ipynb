{
 "cells": [
  {
   "cell_type": "markdown",
   "id": "bdc8740a",
   "metadata": {},
   "source": [
    "# Uso de RAG para recuperar conhecimento organizacional"
   ]
  },
  {
   "cell_type": "markdown",
   "id": "277da8e0",
   "metadata": {},
   "source": [
    "## Objetivo: Criar uma rag"
   ]
  }
 ],
 "metadata": {
  "language_info": {
   "name": "python"
  }
 },
 "nbformat": 4,
 "nbformat_minor": 5
}
