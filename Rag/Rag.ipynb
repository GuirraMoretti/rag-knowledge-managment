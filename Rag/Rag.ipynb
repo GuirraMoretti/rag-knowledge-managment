{
 "cells": [
  {
   "cell_type": "markdown",
   "id": "bdc8740a",
   "metadata": {},
   "source": [
    "# Uso de RAG para recuperar conhecimento organizacional"
   ]
  },
  {
   "cell_type": "markdown",
   "id": "277da8e0",
   "metadata": {},
   "source": [
    "## Objetivo: Criar uma rag"
   ]
  },
  {
   "cell_type": "code",
   "execution_count": 1,
   "metadata": {},
   "outputs": [],
   "source": [
    "%%capture --no-stderr\n",
    "%pip install langchain langchain-community langchain-text-splitters dotenv langchain-google-genai chromadb pypdf langchain-mistralai ipywidgets unstructured"
   ]
  },
  {
   "cell_type": "code",
   "execution_count": 2,
   "id": "61acfb03",
   "metadata": {},
   "outputs": [],
   "source": [
    "import os, getpass\n",
    "from dotenv import load_dotenv\n",
    "\n",
    "load_dotenv()  # Isso carrega automaticamente as variáveis do .env para o os.environ\n",
    "\n",
    "\n",
    "def _set_env(var: str):\n",
    "    if not os.environ.get(var):\n",
    "        os.environ[var] = getpass.getpass(f\"{var}: \")\n",
    "\n",
    "_set_env(\"GROQ_API_KEY\")\n",
    "_set_env(\"GOOGLE_API_KEY\")"
   ]
  },
  {
   "cell_type": "code",
   "execution_count": 3,
   "id": "ff51eef9",
   "metadata": {},
   "outputs": [],
   "source": [
    "from langchain.schema import Document\n",
    "from langchain.document_loaders import PDFMinerLoader\n",
    "\n",
    "def carregar_documentos(pdf_path_folder: str) -> list[Document]:\n",
    "    documentos = []\n",
    "    for fn in os.listdir(pdf_path_folder):\n",
    "        if fn.lower().endswith(\".pdf\"):\n",
    "            loader = PDFMinerLoader(os.path.join(pdf_path_folder, fn))\n",
    "            documentos.extend(loader.load())\n",
    "    return documentos\n"
   ]
  },
  {
   "cell_type": "code",
   "execution_count": 4,
   "id": "c4b067ed",
   "metadata": {},
   "outputs": [],
   "source": [
    "from langchain.text_splitter import CharacterTextSplitter\n",
    "\n",
    "def dividir_documentos(documentos: list[Document],\n",
    "                       chunk_size: int = 1000,\n",
    "                       chunk_overlap: int = 0) -> list[Document]:\n",
    "    \"\"\"\n",
    "    Divide cada Document em pedaços menores (chunks) para melhorar a qualidade dos embeddings.\n",
    "    \"\"\"\n",
    "    splitter = CharacterTextSplitter(chunk_size=chunk_size, chunk_overlap=chunk_overlap)\n",
    "    documentos_divididos = splitter.split_documents(documentos)\n",
    "    return documentos_divididos"
   ]
  },
  {
   "cell_type": "code",
   "execution_count": 5,
   "id": "3e4d87de",
   "metadata": {},
   "outputs": [],
   "source": [
    "from langchain_google_genai import GoogleGenerativeAIEmbeddings\n",
    "from langchain_community.vectorstores import Chroma\n",
    "\n",
    "def criar_e_armazenar_embeddings(documentos: list[Document],\n",
    "                                 persist_directory: str = \"chroma_langchain_db\",\n",
    "                                 collection_name: str = \"km-db-new\") -> Chroma: # Changed collection name\n",
    "    \"\"\"\n",
    "    Gera embeddings usando GoogleGenerativeAIEmbeddings e armazena em um índice Chroma.\n",
    "    Se desejar persistência em disco, especifique `persist_directory`.\n",
    "    \"\"\"\n",
    "    embeddings = GoogleGenerativeAIEmbeddings(model=\"models/text-embedding-004\")\n",
    "    \n",
    "    store = Chroma.from_documents(\n",
    "        documentos,\n",
    "        embeddings,\n",
    "        persist_directory=persist_directory,\n",
    "        collection_name=collection_name\n",
    "    )\n",
    "    return store"
   ]
  },
  {
   "cell_type": "code",
   "execution_count": 6,
   "id": "c32b8812",
   "metadata": {},
   "outputs": [],
   "source": [
    "from langchain_google_genai import ChatGoogleGenerativeAI\n",
    "\n",
    "def configurar_llm():\n",
    "    return ChatGoogleGenerativeAI(model=\"gemini-2.0-flash\")"
   ]
  },
  {
   "cell_type": "code",
   "execution_count": 7,
   "id": "2b310af2",
   "metadata": {},
   "outputs": [
    {
     "name": "stderr",
     "output_type": "stream",
     "text": [
      "Created a chunk of size 1262, which is longer than the specified 1000\n",
      "Created a chunk of size 1071, which is longer than the specified 1000\n",
      "Created a chunk of size 1667, which is longer than the specified 1000\n",
      "Created a chunk of size 1134, which is longer than the specified 1000\n",
      "Created a chunk of size 1130, which is longer than the specified 1000\n",
      "Created a chunk of size 1165, which is longer than the specified 1000\n",
      "Created a chunk of size 1081, which is longer than the specified 1000\n",
      "Created a chunk of size 1134, which is longer than the specified 1000\n",
      "Created a chunk of size 1383, which is longer than the specified 1000\n",
      "Created a chunk of size 1041, which is longer than the specified 1000\n",
      "Created a chunk of size 1586, which is longer than the specified 1000\n",
      "Created a chunk of size 1791, which is longer than the specified 1000\n",
      "Created a chunk of size 1721, which is longer than the specified 1000\n",
      "Created a chunk of size 1234, which is longer than the specified 1000\n"
     ]
    },
    {
     "name": "stdout",
     "output_type": "stream",
     "text": [
      "Resposta:\n",
      " Product Ops desempenha um papel crucial em uma equipe de desenvolvimento ágil, focando em otimizar e acelerar o processo de desenvolvimento do produto. Eles fazem isso através de:\n",
      "\n",
      "*   **Automatização e Padronização:** Automatizam tarefas repetitivas e padronizam formatos e padrões de qualidade para entradas e saídas das equipes, liberando tempo para trabalho mais significativo.\n",
      "*   **Identificação e Remoção de Gargalos:** Medem e avaliam continuamente o processo de desenvolvimento, estudam dependências entre equipes e identificam gargalos para acelerar o lançamento de funcionalidades.\n",
      "*   **Priorização Informada:** Compreendem os custos de P&D, objetivos de negócios e necessidades dos stakeholders, fornecendo sugestões para priorizar o trabalho de desenvolvimento para máximo impacto.\n",
      "*   **Alinhamento:** Estabelecem cadências regulares para reuniões multifuncionais e regras para consulta e engajamento de equipes.\n",
      "*   **Medição e Melhoria Contínua:** Medem continuamente o processo de desenvolvimento do produto para identificar gargalos e buscar maior eficiência. Isso inclui medir o tempo de lançamento de versões ou funcionalidades e o número de funcionalidades lançadas por trimestre ou sprint.\n",
      "*   **Controle da Capacidade Organizacional:** Garante que a velocidade de entrega seja consistente à medida que a organização cresce. O conhecimento da capacidade organizacional impede a busca de roteiros excessivamente ambiciosos.\n",
      "*   **Análise de Custo-Benefício:** Entendem os custos de desenvolvimento e fornecem suporte para a tomada de decisão para executivos que realizam análises de custo-benefício de iniciativas da empresa.\n",
      "\n",
      "Em resumo, o Product Ops atua como um facilitador e otimizador do processo de desenvolvimento, garantindo que as equipes ágeis possam entregar produtos de alta qualidade de forma eficiente e alinhada aos objetivos de negócios.\n",
      "\n",
      "Documentos usados:\n",
      "- /home/gui/rag-knowledge-managment/docs/pdfs/a.pdf\n",
      "- /home/gui/rag-knowledge-managment/docs/pdfs/a.pdf\n",
      "- /home/gui/rag-knowledge-managment/docs/pdfs/a.pdf\n",
      "- /home/gui/rag-knowledge-managment/docs/pdfs/a.pdf\n"
     ]
    }
   ],
   "source": [
    "from langchain.chains import RetrievalQA\n",
    "\n",
    "folder = \"/home/gui/rag-knowledge-managment/docs/pdfs\"\n",
    "\n",
    "# 2. Carrega e processa documentos\n",
    "documentos = carregar_documentos(folder)\n",
    "documentos_divididos = dividir_documentos(documentos)\n",
    "\n",
    "# 3. Cria embeddings e armazena em Chroma\n",
    "vetor_store = criar_e_armazenar_embeddings(documentos_divididos)\n",
    "\n",
    "# 4. Configura o LLM para consultas\n",
    "llm = configurar_llm()\n",
    "\n",
    "# 5. Consulta RAG usando RetrievalQA\n",
    "rag_chain = RetrievalQA.from_chain_type(\n",
    "    llm=llm,\n",
    "    chain_type=\"stuff\",             # opções: \"stuff\", \"map_reduce\", \"refine\"\n",
    "    retriever=vetor_store.as_retriever(k=3),\n",
    "    return_source_documents=True\n",
    ")\n",
    "\n",
    "# Sua pergunta (prompt)\n",
    "pergunta = \"Qual é o papel do agente de Product Ops em um time de desenvolvimento ágil?\"\n",
    "\n",
    "# Roda a consulta\n",
    "result = rag_chain.invoke(pergunta)\n",
    "\n",
    "# Exibe resultados\n",
    "print(\"Resposta:\\n\", result[\"result\"])\n",
    "print(\"\\nDocumentos usados:\")\n",
    "for doc in result[\"source_documents\"]:\n",
    "    fonte = doc.metadata.get(\"source\", \"<sem fonte>\")\n",
    "    print(f\"- {fonte}\")\n"
   ]
  }
 ],
 "metadata": {
  "kernelspec": {
   "display_name": "rag-knowledge-managment-oo58KjW1",
   "language": "python",
   "name": "python3"
  },
  "language_info": {
   "codemirror_mode": {
    "name": "ipython",
    "version": 3
   },
   "file_extension": ".py",
   "mimetype": "text/x-python",
   "name": "python",
   "nbconvert_exporter": "python",
   "pygments_lexer": "ipython3",
   "version": "3.11.10"
  }
 },
 "nbformat": 4,
 "nbformat_minor": 5
}
